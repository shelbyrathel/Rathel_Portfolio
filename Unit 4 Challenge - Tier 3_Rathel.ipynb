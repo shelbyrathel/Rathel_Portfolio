{
 "cells": [
  {
   "cell_type": "markdown",
   "metadata": {
    "colab_type": "text",
    "id": "Tia3MP1SJpgj"
   },
   "source": [
    "# Springboard Data Science Career Track Unit 4 Challenge - Tier 3 Complete\n",
    "\n",
    "## Objectives\n",
    "Hey! Great job getting through those challenging DataCamp courses. You're learning a lot in a short span of time. \n",
    "\n",
    "In this notebook, you're going to apply the skills you've been learning, bridging the gap between the controlled environment of DataCamp and the *slightly* messier work that data scientists do with actual datasets!\n",
    "\n",
    "Here’s the mystery we’re going to solve: ***which boroughs of London have seen the greatest increase in housing prices, on average, over the last two decades?***\n",
    "\n",
    "\n",
    "A borough is just a fancy word for district. You may be familiar with the five boroughs of New York… well, there are 32 boroughs within Greater London [(here's some info for the curious)](https://en.wikipedia.org/wiki/London_boroughs). Some of them are more desirable areas to live in, and the data will reflect that with a greater rise in housing prices.\n",
    "\n",
    "***This is the Tier 3 notebook, which means it's not filled in at all: we'll just give you the skeleton of a project, the brief and the data. It's up to you to play around with it and see what you can find out! Good luck! If you struggle, feel free to look at easier tiers for help; but try to dip in and out of them, as the more independent work you do, the better it is for your learning!***\n",
    "\n",
    "This challenge will make use of only what you learned in the following DataCamp courses: \n",
    "- Prework courses (Introduction to Python for Data Science, Intermediate Python for Data Science)\n",
    "- Data Types for Data Science\n",
    "- Python Data Science Toolbox (Part One) \n",
    "- pandas Foundations\n",
    "- Manipulating DataFrames with pandas\n",
    "- Merging DataFrames with pandas\n",
    "\n",
    "Of the tools, techniques and concepts in the above DataCamp courses, this challenge should require the application of the following: \n",
    "- **pandas**\n",
    "    - **data ingestion and inspection** (pandas Foundations, Module One) \n",
    "    - **exploratory data analysis** (pandas Foundations, Module Two)\n",
    "    - **tidying and cleaning** (Manipulating DataFrames with pandas, Module Three) \n",
    "    - **transforming DataFrames** (Manipulating DataFrames with pandas, Module One)\n",
    "    - **subsetting DataFrames with lists** (Manipulating DataFrames with pandas, Module One) \n",
    "    - **filtering DataFrames** (Manipulating DataFrames with pandas, Module One) \n",
    "    - **grouping data** (Manipulating DataFrames with pandas, Module Four) \n",
    "    - **melting data** (Manipulating DataFrames with pandas, Module Three) \n",
    "    - **advanced indexing** (Manipulating DataFrames with pandas, Module Four) \n",
    "- **matplotlib** (Intermediate Python for Data Science, Module One)\n",
    "- **fundamental data types** (Data Types for Data Science, Module One) \n",
    "- **dictionaries** (Intermediate Python for Data Science, Module Two)\n",
    "- **handling dates and times** (Data Types for Data Science, Module Four)\n",
    "- **function definition** (Python Data Science Toolbox - Part One, Module One)\n",
    "- **default arguments, variable length, and scope** (Python Data Science Toolbox - Part One, Module Two) \n",
    "- **lambda functions and error handling** (Python Data Science Toolbox - Part One, Module Four) "
   ]
  },
  {
   "cell_type": "markdown",
   "metadata": {
    "colab_type": "text",
    "id": "Ipgd2nV8Jpgl"
   },
   "source": [
    "## The Data Science Pipeline\n",
    "\n",
    "This is Tier Three, so we'll get you started. But after that, it's all in your hands! When you feel done with your investigations, look back over what you've accomplished, and prepare a quick presentation of your findings for the next mentor meeting. \n",
    "\n",
    "Data Science is magical. In this case study, you'll get to apply some complex machine learning algorithms. But as  [David Spiegelhalter](https://www.youtube.com/watch?v=oUs1uvsz0Ok) reminds us, there is no substitute for simply **taking a really, really good look at the data.** Sometimes, this is all we need to answer our question.\n",
    "\n",
    "Data Science projects generally adhere to the four stages of Data Science Pipeline:\n",
    "1. Sourcing and loading \n",
    "2. Cleaning, transforming, and visualizing \n",
    "3. Modeling \n",
    "4. Evaluating and concluding \n"
   ]
  },
  {
   "cell_type": "markdown",
   "metadata": {
    "colab_type": "text",
    "id": "zswDqbefJpgm"
   },
   "source": [
    "### 1. Sourcing and Loading \n",
    "\n",
    "Any Data Science project kicks off by importing  ***pandas***. The documentation of this wonderful library can be found [here](https://pandas.pydata.org/). As you've seen, pandas is conveniently connected to the [Numpy](http://www.numpy.org/) and [Matplotlib](https://matplotlib.org/) libraries. \n",
    "\n",
    "***Hint:*** This part of the data science pipeline will test those skills you acquired in the pandas Foundations course, Module One. "
   ]
  },
  {
   "cell_type": "markdown",
   "metadata": {
    "colab_type": "text",
    "id": "aEau5nEvJpgm"
   },
   "source": [
    "#### 1.1. Importing Libraries"
   ]
  },
  {
   "cell_type": "code",
   "execution_count": 114,
   "metadata": {
    "colab": {},
    "colab_type": "code",
    "id": "7Bt_Q_oPJpgn"
   },
   "outputs": [],
   "source": [
    "# Let's import the pandas, numpy libraries as pd, and np respectively. \n",
    "import pandas as pd\n",
    "import numpy as np\n",
    "\n",
    "import seaborn as sns\n",
    "\n",
    "# Load the pyplot collection of functions from matplotlib, as plt \n",
    "import matplotlib.pyplot as plt"
   ]
  },
  {
   "cell_type": "markdown",
   "metadata": {
    "colab_type": "text",
    "id": "koUrawxsJpgq"
   },
   "source": [
    "#### 1.2.  Loading the data\n",
    "Your data comes from the [London Datastore](https://data.london.gov.uk/): a free, open-source data-sharing portal for London-oriented datasets. "
   ]
  },
  {
   "cell_type": "code",
   "execution_count": 74,
   "metadata": {
    "colab": {},
    "colab_type": "code",
    "id": "AiLiD4v3Jpgr"
   },
   "outputs": [],
   "source": [
    "# First, make a variable called url_LondonHousePrices, and assign it the following link, enclosed in quotation-marks as a string:\n",
    "# https://data.london.gov.uk/download/uk-house-price-index/70ac0766-8902-4eb5-aab5-01951aaed773/UK%20House%20price%20index.xls\n",
    "\n",
    "url_LondonHousePrices = \"https://data.london.gov.uk/download/uk-house-price-index/70ac0766-8902-4eb5-aab5-01951aaed773/UK%20House%20price%20index.xls\"\n",
    "\n",
    "# The dataset we're interested in contains the Average prices of the houses, and is actually on a particular sheet of the Excel file. \n",
    "# As a result, we need to specify the sheet name in the read_excel() method.\n",
    "# Put this data into a variable called properties.  \n",
    "properties = pd.read_excel(url_LondonHousePrices, sheet_name='Average price', index_col= None)"
   ]
  },
  {
   "cell_type": "markdown",
   "metadata": {
    "colab_type": "text",
    "id": "POukEJXgJpgu"
   },
   "source": [
    "### 2. Cleaning, transforming, and visualizing\n",
    "This second stage is arguably the most important part of any Data Science project. The first thing to do is take a proper look at the data. Cleaning forms the majority of this stage, and can be done both before or after Transformation.\n",
    "\n",
    "The end goal of data cleaning is to have tidy data. When data is tidy: \n",
    "\n",
    "1. Each variable has a column.\n",
    "2. Each observation forms a row.\n",
    "\n",
    "Keep the end goal in mind as you move through this process, every step will take you closer. \n",
    "\n",
    "\n",
    "\n",
    "***Hint:*** This part of the data science pipeline should test those skills you acquired in: \n",
    "- Intermediate Python for data science, all modules.\n",
    "- pandas Foundations, all modules. \n",
    "- Manipulating DataFrames with pandas, all modules.\n",
    "- Data Types for Data Science, Module Four.\n",
    "- Python Data Science Toolbox - Part One, all modules"
   ]
  },
  {
   "cell_type": "markdown",
   "metadata": {
    "colab_type": "text",
    "id": "Te0Q548tnzZa"
   },
   "source": [
    "**2.1. Exploring your data** \n",
    "\n",
    "Think about your pandas functions for checking out a dataframe. "
   ]
  },
  {
   "cell_type": "code",
   "execution_count": 77,
   "metadata": {
    "colab": {},
    "colab_type": "code",
    "id": "Rxirxw_qoAJa"
   },
   "outputs": [
    {
     "name": "stdout",
     "output_type": "stream",
     "text": [
      "  Unnamed: 0 City of London Barking & Dagenham       Barnet       Bexley  \\\n",
      "0        NaT      E09000001          E09000002    E09000003    E09000004   \n",
      "1 1995-01-01    91448.98487         50460.2266  93284.51832  64958.09036   \n",
      "2 1995-02-01    82202.77314        51085.77983  93190.16963  64787.92069   \n",
      "3 1995-03-01    79120.70256        51268.96956  92247.52435  64367.49344   \n",
      "4 1995-04-01    77101.20804        53133.50526  90762.87492  64277.66881   \n",
      "\n",
      "         Brent      Bromley       Camden      Croydon       Ealing  ...  \\\n",
      "0    E09000005    E09000006    E09000007    E09000008    E09000009  ...   \n",
      "1  71306.56698  81671.47692  120932.8881  69158.16225  79885.89069  ...   \n",
      "2  72022.26197  81657.55944  119508.8622  68951.09542  80897.06551  ...   \n",
      "3  72015.76274  81449.31143  120282.2131  68712.44341  81379.86288  ...   \n",
      "4  72965.63094  81124.41227   120097.899  68610.04641  82188.90498  ...   \n",
      "\n",
      "    NORTH WEST YORKS & THE HUMBER EAST MIDLANDS WEST MIDLANDS EAST OF ENGLAND  \\\n",
      "0    E12000002          E12000003     E12000004     E12000005       E12000006   \n",
      "1  43958.48001        44803.42878   45544.52227   48527.52339      56701.5961   \n",
      "2  43925.42289        44528.80721   46051.57066   49341.29029     56593.59475   \n",
      "3   44434.8681        45200.46775   45383.82395   49442.17973     56171.18278   \n",
      "4   44267.7796        45614.34341   46124.23045   49455.93299     56567.89582   \n",
      "\n",
      "        LONDON   SOUTH EAST   SOUTH WEST Unnamed: 47      England  \n",
      "0    E12000007    E12000008    E12000009         NaN    E92000001  \n",
      "1  74435.76052  64018.87894   54705.1579         NaN  53202.77128  \n",
      "2  72777.93709  63715.02399  54356.14843         NaN   53096.1549  \n",
      "3  73896.84204  64113.60858  53583.07667         NaN   53201.2843  \n",
      "4  74455.28754  64623.22395  54786.01938         NaN   53590.8548  \n",
      "\n",
      "[5 rows x 49 columns]\n"
     ]
    }
   ],
   "source": [
    "print(properties.head())"
   ]
  },
  {
   "cell_type": "markdown",
   "metadata": {
    "colab_type": "text",
    "id": "tE9Sqt9-oAta"
   },
   "source": [
    "**2.2. Cleaning the data**\n",
    "\n",
    "You might find you need to transpose your dataframe, check out what its row indexes are, and reset the index. You  also might find you need to assign the values of the first row to your column headings  . (Hint: recall the .columns feature of DataFrames, as well as the iloc[] method).\n",
    "\n",
    "Don't be afraid to use StackOverflow for help  with this."
   ]
  },
  {
   "cell_type": "code",
   "execution_count": 79,
   "metadata": {
    "colab": {},
    "colab_type": "code",
    "id": "cdAu1A3YoH_r"
   },
   "outputs": [
    {
     "name": "stdout",
     "output_type": "stream",
     "text": [
      "                          0                    1                    2    \\\n",
      "Unnamed: 0                NaT  1995-01-01 00:00:00  1995-02-01 00:00:00   \n",
      "City of London      E09000001          91448.98487          82202.77314   \n",
      "Barking & Dagenham  E09000002           50460.2266          51085.77983   \n",
      "Barnet              E09000003          93284.51832          93190.16963   \n",
      "Bexley              E09000004          64958.09036          64787.92069   \n",
      "\n",
      "                                    3                    4    \\\n",
      "Unnamed: 0          1995-03-01 00:00:00  1995-04-01 00:00:00   \n",
      "City of London              79120.70256          77101.20804   \n",
      "Barking & Dagenham          51268.96956          53133.50526   \n",
      "Barnet                      92247.52435          90762.87492   \n",
      "Bexley                      64367.49344          64277.66881   \n",
      "\n",
      "                                    5                    6    \\\n",
      "Unnamed: 0          1995-05-01 00:00:00  1995-06-01 00:00:00   \n",
      "City of London              84409.14932          94900.51244   \n",
      "Barking & Dagenham          53042.24852          53700.34831   \n",
      "Barnet                      90258.00033          90107.23471   \n",
      "Bexley                      63997.13588          64252.32335   \n",
      "\n",
      "                                    7                    8    \\\n",
      "Unnamed: 0          1995-07-01 00:00:00  1995-08-01 00:00:00   \n",
      "City of London              110128.0423          112329.4376   \n",
      "Barking & Dagenham          52113.12157          52232.19868   \n",
      "Barnet                      91441.24768          92361.31512   \n",
      "Bexley                      63722.70055          64432.60005   \n",
      "\n",
      "                                    9    ...                  349  \\\n",
      "Unnamed: 0          1995-09-01 00:00:00  ...  2024-01-01 00:00:00   \n",
      "City of London              104473.1096  ...               838041   \n",
      "Barking & Dagenham          51471.61353  ...               329413   \n",
      "Barnet                      93273.12245  ...               575091   \n",
      "Bexley                      64509.54767  ...               393023   \n",
      "\n",
      "                                    350                  351  \\\n",
      "Unnamed: 0          2024-02-01 00:00:00  2024-03-01 00:00:00   \n",
      "City of London                   840027               831409   \n",
      "Barking & Dagenham               328665               333559   \n",
      "Barnet                           562453               569243   \n",
      "Bexley                           393050               394225   \n",
      "\n",
      "                                    352                  353  \\\n",
      "Unnamed: 0          2024-04-01 00:00:00  2024-05-01 00:00:00   \n",
      "City of London                   810395               814092   \n",
      "Barking & Dagenham               335332               336382   \n",
      "Barnet                           573831               581268   \n",
      "Bexley                           396993               397897   \n",
      "\n",
      "                                    354                  355  \\\n",
      "Unnamed: 0          2024-06-01 00:00:00  2024-07-01 00:00:00   \n",
      "City of London                   809408               749503   \n",
      "Barking & Dagenham               334095               341625   \n",
      "Barnet                           586101               589731   \n",
      "Bexley                           402775               404066   \n",
      "\n",
      "                                    356                  357  \\\n",
      "Unnamed: 0          2024-08-01 00:00:00  2024-09-01 00:00:00   \n",
      "City of London                   756112               726259   \n",
      "Barking & Dagenham               337077               338047   \n",
      "Barnet                           595477               589992   \n",
      "Bexley                           408244               409354   \n",
      "\n",
      "                                    358  \n",
      "Unnamed: 0          2024-10-01 00:00:00  \n",
      "City of London                   716754  \n",
      "Barking & Dagenham               338137  \n",
      "Barnet                           586982  \n",
      "Bexley                           409969  \n",
      "\n",
      "[5 rows x 359 columns]\n"
     ]
    }
   ],
   "source": [
    "properties=properties.transpose()\n",
    "print(properties.head())"
   ]
  },
  {
   "cell_type": "markdown",
   "metadata": {
    "colab_type": "text",
    "id": "o1uLbJAsoIjK"
   },
   "source": [
    "**2.3. Cleaning the data (part 2)**\n",
    "\n",
    "You might we have to **rename** a couple columns. How do you do this? The clue's pretty bold..."
   ]
  },
  {
   "cell_type": "code",
   "execution_count": 81,
   "metadata": {
    "colab": {},
    "colab_type": "code",
    "id": "GKkmn1AnoVZS"
   },
   "outputs": [
    {
     "name": "stdout",
     "output_type": "stream",
     "text": [
      "0             Unnamed: 0        NaT  1995-01-01 00:00:00  1995-02-01 00:00:00\n",
      "0             Unnamed: 0        NaT  1995-01-01 00:00:00  1995-02-01 00:00:00\n",
      "1         City of London  E09000001          91448.98487          82202.77314\n",
      "2     Barking & Dagenham  E09000002           50460.2266          51085.77983\n",
      "3                 Barnet  E09000003          93284.51832          93190.16963\n",
      "4                 Bexley  E09000004          64958.09036          64787.92069\n",
      "5                  Brent  E09000005          71306.56698          72022.26197\n",
      "6                Bromley  E09000006          81671.47692          81657.55944\n",
      "7                 Camden  E09000007          120932.8881          119508.8622\n",
      "8                Croydon  E09000008          69158.16225          68951.09542\n",
      "9                 Ealing  E09000009          79885.89069          80897.06551\n",
      "10               Enfield  E09000010          72514.69096          73155.19746\n",
      "11             Greenwich  E09000011          62300.10169          60993.26863\n",
      "12               Hackney  E09000012          61296.52637          63187.08332\n",
      "13  Hammersmith & Fulham  E09000013          124902.8602           122087.718\n",
      "14              Haringey  E09000014          76287.56947          78901.21036\n"
     ]
    }
   ],
   "source": [
    "properties.reset_index(inplace=True)\n",
    "properties.columns = properties.iloc[0]\n",
    "print(properties.iloc[:15, :4])"
   ]
  },
  {
   "cell_type": "code",
   "execution_count": 82,
   "metadata": {
    "colab": {},
    "colab_type": "code",
    "id": "S2wM0qLuo2Zt"
   },
   "outputs": [
    {
     "name": "stdout",
     "output_type": "stream",
     "text": [
      "0                borough    zipcode 1995-01-01 00:00:00 1995-02-01 00:00:00\n",
      "1         City of London  E09000001         91448.98487         82202.77314\n",
      "2     Barking & Dagenham  E09000002          50460.2266         51085.77983\n",
      "3                 Barnet  E09000003         93284.51832         93190.16963\n",
      "4                 Bexley  E09000004         64958.09036         64787.92069\n",
      "5                  Brent  E09000005         71306.56698         72022.26197\n",
      "6                Bromley  E09000006         81671.47692         81657.55944\n",
      "7                 Camden  E09000007         120932.8881         119508.8622\n",
      "8                Croydon  E09000008         69158.16225         68951.09542\n",
      "9                 Ealing  E09000009         79885.89069         80897.06551\n",
      "10               Enfield  E09000010         72514.69096         73155.19746\n",
      "11             Greenwich  E09000011         62300.10169         60993.26863\n",
      "12               Hackney  E09000012         61296.52637         63187.08332\n",
      "13  Hammersmith & Fulham  E09000013         124902.8602          122087.718\n",
      "14              Haringey  E09000014         76287.56947         78901.21036\n",
      "15                Harrow  E09000015         84769.52599         83396.10525\n"
     ]
    }
   ],
   "source": [
    "properties=properties.drop(properties.index[0])\n",
    "properties.rename(columns={'Unnamed: 0': 'borough', pd.NaT: 'zipcode'}, inplace=True)\n",
    "print(properties.iloc[:15, :4])"
   ]
  },
  {
   "cell_type": "markdown",
   "metadata": {
    "colab_type": "text",
    "id": "jy8BzXHmoWEw"
   },
   "source": [
    "**2.4.Transforming the data**\n",
    "\n",
    "Remember what Wes McKinney said about tidy data? \n",
    "\n",
    "You might need to **melt** your DataFrame here. "
   ]
  },
  {
   "cell_type": "code",
   "execution_count": 84,
   "metadata": {},
   "outputs": [
    {
     "name": "stdout",
     "output_type": "stream",
     "text": [
      "Index(['borough', 'zipcode', 'Date', 'Avg_Cost'], dtype='object')\n"
     ]
    }
   ],
   "source": [
    "properties=pd.melt(properties, id_vars=['borough','zipcode'], var_name='Date', value_name='Avg_Cost')\n",
    "print(properties.columns)"
   ]
  },
  {
   "cell_type": "markdown",
   "metadata": {
    "colab_type": "text",
    "id": "7kIsgAo7o3mf"
   },
   "source": [
    "Remember to make sure your column data types are all correct. Average prices, for example, should be floating point numbers... "
   ]
  },
  {
   "cell_type": "code",
   "execution_count": 86,
   "metadata": {},
   "outputs": [
    {
     "name": "stdout",
     "output_type": "stream",
     "text": [
      "object\n"
     ]
    }
   ],
   "source": [
    "print(properties['Avg_Cost'].dtype) "
   ]
  },
  {
   "cell_type": "code",
   "execution_count": 87,
   "metadata": {},
   "outputs": [
    {
     "name": "stdout",
     "output_type": "stream",
     "text": [
      "float64\n"
     ]
    }
   ],
   "source": [
    "properties = properties.astype({'Avg_Cost':'float'})\n",
    "print(properties['Avg_Cost'].dtype) "
   ]
  },
  {
   "cell_type": "code",
   "execution_count": 88,
   "metadata": {
    "colab": {},
    "colab_type": "code",
    "id": "ZcR4IHbcpOaq"
   },
   "outputs": [
    {
     "name": "stdout",
     "output_type": "stream",
     "text": [
      "              borough    zipcode       Date     Avg_Cost  Month  Year\n",
      "0      City of London  E09000001 1995-01-01  91448.98487      1  1995\n",
      "1  Barking & Dagenham  E09000002 1995-01-01  50460.22660      1  1995\n",
      "2              Barnet  E09000003 1995-01-01  93284.51832      1  1995\n",
      "3              Bexley  E09000004 1995-01-01  64958.09036      1  1995\n",
      "4               Brent  E09000005 1995-01-01  71306.56698      1  1995\n"
     ]
    }
   ],
   "source": [
    "properties['Date'] = pd.to_datetime(properties['Date'])\n",
    "properties['Month'] = properties['Date'].dt.month\n",
    "properties['Year'] = properties['Date'].dt.year\n",
    "print(properties.head())"
   ]
  },
  {
   "cell_type": "code",
   "execution_count": 89,
   "metadata": {},
   "outputs": [
    {
     "name": "stdout",
     "output_type": "stream",
     "text": [
      "              borough    zipcode     Avg_Cost  Month  Year\n",
      "0      City of London  E09000001  91448.98487      1  1995\n",
      "1  Barking & Dagenham  E09000002  50460.22660      1  1995\n",
      "2              Barnet  E09000003  93284.51832      1  1995\n",
      "3              Bexley  E09000004  64958.09036      1  1995\n",
      "4               Brent  E09000005  71306.56698      1  1995\n"
     ]
    }
   ],
   "source": [
    "properties = properties.drop('Date',axis=1)\n",
    "print(properties.head())"
   ]
  },
  {
   "cell_type": "code",
   "execution_count": 90,
   "metadata": {},
   "outputs": [
    {
     "name": "stdout",
     "output_type": "stream",
     "text": [
      "              borough    zipcode  Year  Month     Avg_Cost\n",
      "0      City of London  E09000001  1995      1  91448.98487\n",
      "1  Barking & Dagenham  E09000002  1995      1  50460.22660\n",
      "2              Barnet  E09000003  1995      1  93284.51832\n",
      "3              Bexley  E09000004  1995      1  64958.09036\n",
      "4               Brent  E09000005  1995      1  71306.56698\n"
     ]
    }
   ],
   "source": [
    "properties = properties.reindex(columns=['borough', 'zipcode', 'Year', 'Month','Avg_Cost'])\n",
    "print(properties.head())"
   ]
  },
  {
   "cell_type": "code",
   "execution_count": 91,
   "metadata": {},
   "outputs": [
    {
     "name": "stdout",
     "output_type": "stream",
     "text": [
      "              borough    zipcode  Year  Month     Avg_Cost\n",
      "0      City of London  E09000001  1995      1  91448.98487\n",
      "1  Barking & Dagenham  E09000002  1995      1  50460.22660\n",
      "2              Barnet  E09000003  1995      1  93284.51832\n",
      "3              Bexley  E09000004  1995      1  64958.09036\n",
      "4               Brent  E09000005  1995      1  71306.56698\n"
     ]
    }
   ],
   "source": [
    "print(properties.head())"
   ]
  },
  {
   "cell_type": "markdown",
   "metadata": {
    "colab_type": "text",
    "id": "knLUXHLypOtw"
   },
   "source": [
    "**2.5. Cleaning the data (part 3)**\n",
    "\n",
    "Do we have an equal number of observations in the ID, Average Price, Month, and London Borough columns? Remember that there are only 32 London Boroughs. How many entries do you have in that column? \n",
    "\n",
    "Check out the contents of the London Borough column, and if you find null values, get rid of them however you see fit. "
   ]
  },
  {
   "cell_type": "code",
   "execution_count": 93,
   "metadata": {},
   "outputs": [
    {
     "name": "stdout",
     "output_type": "stream",
     "text": [
      "True\n"
     ]
    }
   ],
   "source": [
    "print(properties['Avg_Cost'].isna().any())"
   ]
  },
  {
   "cell_type": "code",
   "execution_count": 94,
   "metadata": {},
   "outputs": [],
   "source": [
    "properties.dropna(inplace=True)"
   ]
  },
  {
   "cell_type": "code",
   "execution_count": 95,
   "metadata": {},
   "outputs": [
    {
     "name": "stdout",
     "output_type": "stream",
     "text": [
      "False\n"
     ]
    }
   ],
   "source": [
    "print(properties['Avg_Cost'].isna().any())"
   ]
  },
  {
   "cell_type": "markdown",
   "metadata": {
    "colab_type": "text",
    "id": "PGEx6mJsp6dG"
   },
   "source": [
    "**2.6. Visualizing the data**\n",
    "\n",
    "To visualize the data, why not subset on a particular London Borough? Maybe do a line plot of Month against Average Price?"
   ]
  },
  {
   "cell_type": "code",
   "execution_count": 97,
   "metadata": {
    "colab": {},
    "colab_type": "code",
    "id": "nAg5pT9cqHAR"
   },
   "outputs": [
    {
     "data": {
      "image/png": "[encoded data removed]",
      "text/plain": [
       "<Figure size 640x480 with 1 Axes>"
      ]
     },
     "metadata": {},
     "output_type": "display_data"
    }
   ],
   "source": [
    "City_London = properties[properties['borough'] == 'City of London']\n",
    "City_London_grouped = City_London.groupby('Month')['Avg_Cost'].mean().reset_index()\n",
    "plt.plot(City_London_grouped['Month'], City_London_grouped['Avg_Cost'])\n",
    "plt.xlabel('Month')\n",
    "plt.ylabel('Avg_Cost')\n",
    "plt.show()"
   ]
  },
  {
   "cell_type": "markdown",
   "metadata": {
    "colab_type": "text",
    "id": "aWTPqSJeqHnC"
   },
   "source": [
    "To limit the number of data points you have, you might want to extract the year from every month value your *Month* column. \n",
    "\n",
    "To this end, you *could* apply a ***lambda function***. Your logic could work as follows:\n",
    "1. look through the `Month` column\n",
    "2. extract the year from each individual value in that column \n",
    "3. store that corresponding year as separate column. \n",
    "\n",
    "Whether you go ahead with this is up to you. Just so long as you answer our initial brief: which boroughs of London have seen the greatest house price increase, on average, over the past two decades? "
   ]
  },
  {
   "cell_type": "code",
   "execution_count": 99,
   "metadata": {
    "colab": {},
    "colab_type": "code",
    "id": "e0DF92cyqnu8"
   },
   "outputs": [],
   "source": [
    "# Already seperated year and month in their own column in the code above. "
   ]
  },
  {
   "cell_type": "markdown",
   "metadata": {
    "colab_type": "text",
    "id": "2knuTxAEqoJ4"
   },
   "source": [
    "**3. Modeling**\n",
    "\n",
    "Consider creating a function that will calculate a ratio of house prices, comparing the price of a house in 2018 to the price in 1998.\n",
    "\n",
    "Consider calling this function create_price_ratio.\n",
    "\n",
    "You'd want this function to:\n",
    "1. Take a filter of dfg, specifically where this filter constrains the London_Borough, as an argument. For example, one admissible argument should be: dfg[dfg['London_Borough']=='Camden'].\n",
    "2. Get the Average Price for that Borough, for the years 1998 and 2018.\n",
    "4. Calculate the ratio of the Average Price for 1998 divided by the Average Price for 2018.\n",
    "5. Return that ratio.\n",
    "\n",
    "Once you've written this function, you ultimately want to use it to iterate through all the unique London_Boroughs and work out the ratio capturing the difference of house prices between 1998 and 2018.\n",
    "\n",
    "Bear in mind: you don't have to write a function like this if you don't want to. If you can solve the brief otherwise, then great! \n",
    "\n",
    "***Hint***: This section should test the skills you acquired in:\n",
    "- Python Data Science Toolbox - Part One, all modules"
   ]
  },
  {
   "cell_type": "code",
   "execution_count": 101,
   "metadata": {
    "colab": {},
    "colab_type": "code",
    "id": "cKTyr437UgDa"
   },
   "outputs": [],
   "source": [
    "def create_price_ratio(df,s_year,e_year):\n",
    "    df = df.groupby('Year')['Avg_Cost'].mean().reset_index()\n",
    "    avg_s = df[df[\"Year\"] == s_year][\"Avg_Cost\"].values[0]\n",
    "    avg_e = df[df[\"Year\"] == e_year][\"Avg_Cost\"].values[0]\n",
    "    return(avg_e/avg_s)\n",
    "    "
   ]
  },
  {
   "cell_type": "code",
   "execution_count": 124,
   "metadata": {},
   "outputs": [
    {
     "name": "stdout",
     "output_type": "stream",
     "text": [
      "                 borough  Increased Ratio\n",
      "11               Hackney         6.198336\n",
      "30        Waltham Forest         5.835127\n",
      "27             Southwark         5.516372\n",
      "22              Lewisham         5.447912\n",
      "32           Westminster         5.352731\n",
      "24                Newham         5.307656\n",
      "0         City of London         5.302624\n",
      "33          Inner London         5.170827\n",
      "13              Haringey         5.134553\n",
      "19  Kensington & Chelsea         5.082175\n",
      "21               Lambeth         4.958195\n",
      "6                 Camden         4.934044\n",
      "1     Barking & Dagenham         4.896427\n",
      "4                  Brent         4.895463\n",
      "18             Islington         4.841878\n",
      "10             Greenwich         4.763566\n",
      "31            Wandsworth         4.757575\n",
      "23                Merton         4.745151\n",
      "41                LONDON         4.679676\n",
      "29         Tower Hamlets         4.626735\n",
      "25             Redbridge         4.470190\n",
      "34          Outer London         4.419069\n",
      "2                 Barnet         4.357784\n",
      "15              Havering         4.325869\n",
      "8                 Ealing         4.311772\n",
      "20  Kingston upon Thames         4.270037\n",
      "9                Enfield         4.262748\n",
      "3                 Bexley         4.249835\n",
      "7                Croydon         4.200985\n",
      "16            Hillingdon         4.200284\n",
      "40       EAST OF ENGLAND         4.167246\n",
      "12  Hammersmith & Fulham         4.138940\n",
      "28                Sutton         4.118867\n",
      "5                Bromley         4.094846\n",
      "14                Harrow         4.059151\n",
      "26  Richmond upon Thames         4.002760\n",
      "17              Hounslow         3.977073\n",
      "42            SOUTH EAST         3.828570\n",
      "44               England         3.810435\n",
      "43            SOUTH WEST         3.795378\n",
      "38         EAST MIDLANDS         3.632678\n",
      "39         WEST MIDLANDS         3.410517\n",
      "36            NORTH WEST         3.363330\n",
      "37    YORKS & THE HUMBER         3.355903\n",
      "35            NORTH EAST         2.827888\n"
     ]
    }
   ],
   "source": [
    "London_Boroughs = properties['borough'].unique().tolist()\n",
    "price_increase={'borough':[],'Increased Ratio':[]}\n",
    "for i in London_Boroughs:\n",
    "    price=create_price_ratio(properties[properties['borough'] == i],1998,2018)\n",
    "    price_increase[\"borough\"].append(i)\n",
    "    price_increase[\"Increased Ratio\"].append(price)\n",
    "price_increase_London = pd.DataFrame.from_dict(price_increase)\n",
    "price_increase_London = price_increase_London.sort_values(by='Increased Ratio', ascending=False)\n",
    "print(price_increase_London)"
   ]
  },
  {
   "cell_type": "code",
   "execution_count": 106,
   "metadata": {
    "scrolled": true
   },
   "outputs": [
    {
     "name": "stdout",
     "output_type": "stream",
     "text": [
      "11    Borough with the highest increase is Hackney\n",
      "Name: borough, dtype: object\n",
      "35    Borough with the lowest increase is NORTH EAST\n",
      "Name: borough, dtype: object\n"
     ]
    }
   ],
   "source": [
    "max_value=price_increase_London['Increased Ratio'].max()\n",
    "min_value=price_increase_London['Increased Ratio'].min()\n",
    "max_b = price_increase_London[price_increase_London['Increased Ratio'] == max_value]['borough']\n",
    "min_b = price_increase_London[price_increase_London['Increased Ratio'] == min_value]['borough']\n",
    "print('Borough with the highest increase is ' + max_b)\n",
    "print('Borough with the lowest increase is ' + min_b)"
   ]
  },
  {
   "cell_type": "code",
   "execution_count": 126,
   "metadata": {},
   "outputs": [
    {
     "name": "stderr",
     "output_type": "stream",
     "text": [
      "/var/folders/qx/ynlh2vwj6fg_ypr59jccp3200000gn/T/ipykernel_33358/3894485771.py:1: FutureWarning: \n",
      "\n",
      "Passing `palette` without assigning `hue` is deprecated and will be removed in v0.14.0. Assign the `x` variable to `hue` and set `legend=False` for the same effect.\n",
      "\n",
      "  sns.barplot(x=price_increase_London['borough'],y=price_increase_London['Increased Ratio'],palette='bright')\n"
     ]
    },
    {
     "data": {
      "image/png": "[encoded data removed]",
      "text/plain": [
       "<Figure size 640x480 with 1 Axes>"
      ]
     },
     "metadata": {},
     "output_type": "display_data"
    }
   ],
   "source": [
    "sns.barplot(x=price_increase_London['borough'],y=price_increase_London['Increased Ratio'],palette='bright')\n",
    "plt.xlabel('Borough')\n",
    "plt.ylabel('Increased Ratio')\n",
    "plt.xticks(rotation=90)\n",
    "plt.tick_params(labelsize=6)\n",
    "plt.title('Ratio of Increased Housing Price from 1998 to 2018 in Various London Boroughs')\n",
    "plt.show()"
   ]
  },
  {
   "cell_type": "markdown",
   "metadata": {
    "colab_type": "text",
    "id": "NzYUI7FxJpgv"
   },
   "source": [
    "### 4. Conclusion\n",
    "What can you conclude? Type out your conclusion below. \n",
    "\n",
    "Look back at your notebook. Think about how you might summarize what you have done, and prepare a quick presentation on it to your mentor at your next meeting. \n",
    "\n",
    "We hope you enjoyed this practical project. It should have consolidated your data hygiene and pandas skills by looking at a real-world problem involving just the kind of dataset you might encounter as a budding data scientist. Congratulations, and looking forward to seeing you at the next step in the course! "
   ]
  },
  {
   "cell_type": "code",
   "execution_count": null,
   "metadata": {},
   "outputs": [],
   "source": []
  },
  {
   "cell_type": "code",
   "execution_count": null,
   "metadata": {},
   "outputs": [],
   "source": []
  },
  {
   "cell_type": "code",
   "execution_count": null,
   "metadata": {},
   "outputs": [],
   "source": []
  }
 ],
 "metadata": {
  "colab": {
   "collapsed_sections": [],
   "name": "Springboard Data Science Career Track Unit 4 Challenge - Tier 3 Complete .ipynb",
   "provenance": []
  },
  "kernelspec": {
   "display_name": "Python [conda env:base] *",
   "language": "python",
   "name": "conda-base-py"
  },
  "language_info": {
   "codemirror_mode": {
    "name": "ipython",
    "version": 3
   },
   "file_extension": ".py",
   "mimetype": "text/x-python",
   "name": "python",
   "nbconvert_exporter": "python",
   "pygments_lexer": "ipython3",
   "version": "3.12.7"
  }
 },
 "nbformat": 4,
 "nbformat_minor": 4
}
